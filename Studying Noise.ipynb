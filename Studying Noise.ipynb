{
 "cells": [
  {
   "cell_type": "code",
   "execution_count": 1,
   "metadata": {},
   "outputs": [],
   "source": [
    "import numpy as np, os\n",
    "np.set_printoptions(suppress=True)\n",
    "import pandas as pd\n",
    "from sklearn.utils import check_random_state\n",
    "from sklearn.metrics import confusion_matrix, plot_confusion_matrix\n",
    "from sklearn.metrics._plot.confusion_matrix import ConfusionMatrixDisplay\n",
    "from sklearn.model_selection import cross_val_predict\n",
    "from libs import read_jira\n"
   ]
  },
  {
   "cell_type": "code",
   "execution_count": 2,
   "metadata": {},
   "outputs": [],
   "source": [
    "def plot_CM(y_true, y_pred):\n",
    "    labels = ['Clean','Bug']\n",
    "    cm = confusion_matrix(y_true, y_pred,normalize='true')\n",
    "    print(cm)\n",
    "    disp = ConfusionMatrixDisplay(confusion_matrix=cm,\n",
    "                                  display_labels=labels)\n",
    "    return disp.plot(values_format='.4f',cmap='BuGn')"
   ]
  },
  {
   "cell_type": "code",
   "execution_count": 3,
   "metadata": {},
   "outputs": [
    {
     "data": {
      "text/plain": [
       "32"
      ]
     },
     "execution_count": 3,
     "metadata": {},
     "output_type": "execute_result"
    }
   ],
   "source": [
    "ds = [f for f in os.listdir(\"JIRA/\") if 'csv' in f]\n",
    "len(ds)"
   ]
  },
  {
   "cell_type": "code",
   "execution_count": 81,
   "metadata": {},
   "outputs": [
    {
     "name": "stdout",
     "output_type": "stream",
     "text": [
      "derby-10.2.1.6.csv noise:0.290, imb:9.906,180,1783, Shape:(1963, 65)\n"
     ]
    }
   ],
   "source": [
    "X,yn,y = read_jira(ds[9])"
   ]
  },
  {
   "cell_type": "code",
   "execution_count": 12,
   "metadata": {},
   "outputs": [
    {
     "name": "stdout",
     "output_type": "stream",
     "text": [
      "[[0.96886373 0.03113627]\n",
      " [0.84761905 0.15238095]]\n"
     ]
    },
    {
     "data": {
      "text/plain": [
       "<sklearn.metrics._plot.confusion_matrix.ConfusionMatrixDisplay at 0x3629cf0>"
      ]
     },
     "execution_count": 12,
     "metadata": {},
     "output_type": "execute_result"
    },
    {
     "data": {
      "image/png": "[encoded data removed]",
      "text/plain": [
       "<Figure size 432x288 with 2 Axes>"
      ]
     },
     "metadata": {
      "needs_background": "light"
     },
     "output_type": "display_data"
    }
   ],
   "source": [
    "plot_CM(y,yn)"
   ]
  },
  {
   "cell_type": "code",
   "execution_count": 5,
   "metadata": {},
   "outputs": [
    {
     "name": "stdout",
     "output_type": "stream",
     "text": [
      "activemq-5.0.0.csv noise:0.139, imb:21.976,82,1802, Shape:(1884, 65)\n",
      "activemq-5.1.0.csv noise:0.083, imb:13.173,139,1831, Shape:(1970, 65)\n",
      "activemq-5.2.0.csv noise:0.113, imb:12.247,154,1886, Shape:(2040, 65)\n",
      "activemq-5.3.0.csv noise:0.094, imb:15.669,142,2225, Shape:(2367, 65)\n",
      "activemq-5.8.0.csv noise:0.058, imb:15.847,203,3217, Shape:(3420, 65)\n",
      "camel-1.4.0.csv noise:0.281, imb:3.174,363,1152, Shape:(1515, 65)\n",
      "camel-2.10.0.csv noise:0.053, imb:24.447,311,7603, Shape:(7914, 65)\n",
      "camel-2.11.0.csv noise:0.024, imb:43.230,200,8646, Shape:(8846, 65)\n",
      "camel-2.9.0.csv noise:0.044, imb:34.600,200,6920, Shape:(7120, 65)\n",
      "derby-10.2.1.6.csv noise:0.290, imb:9.906,180,1783, Shape:(1963, 65)\n",
      "derby-10.3.1.4.csv noise:0.267, imb:13.051,157,2049, Shape:(2206, 65)\n",
      "derby-10.5.1.1.csv noise:0.126, imb:14.028,180,2525, Shape:(2705, 65)\n",
      "groovy-1_5_7.csv noise:0.085, imb:8.463,80,677, Shape:(757, 65)\n",
      "groovy-1_6_BETA_1.csv noise:0.128, imb:6.017,117,704, Shape:(821, 65)\n",
      "groovy-1_6_BETA_2.csv noise:0.096, imb:7.583,103,781, Shape:(884, 65)\n",
      "hbase-0.94.0.csv noise:0.207, imb:14.348,69,990, Shape:(1059, 65)\n",
      "hbase-0.95.0.csv noise:0.234, imb:17.341,91,1578, Shape:(1669, 65)\n",
      "hbase-0.95.2.csv noise:0.260, imb:15.088,114,1720, Shape:(1834, 65)\n",
      "hive-0.10.0.csv noise:0.126, imb:29.000,52,1508, Shape:(1560, 65)\n",
      "hive-0.12.0.csv noise:0.087, imb:56.870,46,2616, Shape:(2662, 65)\n",
      "hive-0.9.0.csv noise:0.179, imb:25.717,53,1363, Shape:(1416, 65)\n",
      "jruby-1.1.csv noise:0.175, imb:3.540,161,570, Shape:(731, 65)\n",
      "jruby-1.4.0.csv noise:0.190, imb:3.890,200,778, Shape:(978, 65)\n",
      "jruby-1.5.0.csv noise:0.218, imb:3.098,276,855, Shape:(1131, 65)\n",
      "jruby-1.7.0.preview1.csv noise:0.099, imb:8.902,163,1451, Shape:(1614, 65)\n",
      "lucene-2.3.0.csv noise:0.204, imb:4.031,160,645, Shape:(805, 65)\n",
      "lucene-2.9.0.csv noise:0.226, imb:3.921,278,1090, Shape:(1368, 65)\n",
      "lucene-3.0.0.csv noise:0.185, imb:6.037,190,1147, Shape:(1337, 65)\n",
      "lucene-3.1.csv noise:0.120, imb:7.477,331,2475, Shape:(2806, 65)\n",
      "wicket-1.3.0-beta2.csv noise:0.184, imb:4.780,305,1458, Shape:(1763, 65)\n",
      "wicket-1.3.0-incubating-beta-1.csv noise:0.164, imb:4.806,288,1384, Shape:(1672, 65)\n",
      "wicket-1.5.3.csv noise:0.064, imb:26.720,93,2485, Shape:(2578, 65)\n"
     ]
    }
   ],
   "source": [
    "cms = []\n",
    "for d in ds:\n",
    "    X,yn,y = read_jira(d)\n",
    "    cms.append(confusion_matrix(y,yn,normalize='true'))"
   ]
  },
  {
   "cell_type": "code",
   "execution_count": 13,
   "metadata": {},
   "outputs": [
    {
     "data": {
      "text/plain": [
       "array([[0.79027645, 0.20972355],\n",
       "       [0.31707317, 0.68292683]])"
      ]
     },
     "execution_count": 13,
     "metadata": {},
     "output_type": "execute_result"
    }
   ],
   "source": [
    "cms[23]"
   ]
  },
  {
   "cell_type": "code",
   "execution_count": null,
   "metadata": {},
   "outputs": [],
   "source": []
  },
  {
   "cell_type": "code",
   "execution_count": null,
   "metadata": {},
   "outputs": [],
   "source": []
  },
  {
   "cell_type": "code",
   "execution_count": null,
   "metadata": {},
   "outputs": [],
   "source": []
  },
  {
   "cell_type": "code",
   "execution_count": null,
   "metadata": {},
   "outputs": [],
   "source": [
    "\n",
    "\n",
    "\n",
    "\n",
    "\n",
    "\n",
    "\n",
    "\n",
    "\n",
    "\n",
    "\n",
    "\n",
    "\n",
    "\n"
   ]
  }
 ],
 "metadata": {
  "kernelspec": {
   "display_name": "Python 3",
   "language": "python",
   "name": "python3"
  },
  "language_info": {
   "codemirror_mode": {
    "name": "ipython",
    "version": 3
   },
   "file_extension": ".py",
   "mimetype": "text/x-python",
   "name": "python",
   "nbconvert_exporter": "python",
   "pygments_lexer": "ipython3",
   "version": "3.7.0"
  }
 },
 "nbformat": 4,
 "nbformat_minor": 2
}
