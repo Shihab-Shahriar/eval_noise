{
 "cells": [
  {
   "cell_type": "code",
   "execution_count": 1,
   "metadata": {
    "scrolled": true
   },
   "outputs": [],
   "source": [
    "import numpy as np,os,sys,inspect\n",
    "from collections import defaultdict\n",
    "from sklearn.preprocessing import StandardScaler\n",
    "from sklearn.datasets import load_breast_cancer, make_classification\n",
    "from sklearn.linear_model import LogisticRegression\n",
    "from sklearn.model_selection import (cross_val_score, RepeatedStratifiedKFold, GridSearchCV, \n",
    "                                     StratifiedShuffleSplit, RandomizedSearchCV, ShuffleSplit)\n",
    "from sklearn.metrics import accuracy_score, confusion_matrix, f1_score, matthews_corrcoef\n",
    "import matplotlib.pyplot as plt\n",
    "from utils import corrupt_label, load_mat, noisy_evaluate, Logit"
   ]
  },
  {
   "cell_type": "markdown",
   "metadata": {},
   "source": [
    "This implementation performs better compared to loss_log sometimes, and sometimes worse. Problem is the margin tends to be pretty wide in both cases. I think, but not absolutely certain, that this is correct, complete implementation."
   ]
  },
  {
   "cell_type": "code",
   "execution_count": null,
   "metadata": {},
   "outputs": [],
   "source": [
    "def compute(clf,X,y,PN,NP):\n",
    "    scores = []\n",
    "    for _ in range(5):\n",
    "        yn = create_noise(y,PN=PN,NP=NP)\n",
    "        CV = ShuffleSplit(n_splits=3,test_size=.33)\n",
    "        r = noisy_evaluate(clf,X,yn,y,CV,[accuracy_score])\n",
    "        scores.append(list(r.values())[0]*100)\n",
    "        print(list(r.values())[0]*100)\n",
    "    return round(sum(scores)/len(scores),3)"
   ]
  },
  {
   "cell_type": "code",
   "execution_count": null,
   "metadata": {},
   "outputs": [],
   "source": [
    "params = {\n",
    "    'PN':np.linspace(.1,.40,7),\n",
    "    'NP':np.linspace(.1,.40,7),\n",
    "    'C':np.logspace(-4,4,10)\n",
    "}\n",
    "lr = Logit(max_iter=400)\n",
    "grid_cv = StratifiedShuffleSplit(n_splits=2,test_size=.25)\n",
    "robust_lr = RandomizedSearchCV(lr,params,n_iter=20,cv=grid_cv,n_jobs=3)\n",
    "#clf = GridSearchCV(lr,params,cv=StratifiedShuffleSplit(n_splits=3))"
   ]
  },
  {
   "cell_type": "code",
   "execution_count": 2,
   "metadata": {
    "collapsed": true,
    "jupyter": {
     "outputs_hidden": true
    }
   },
   "outputs": [
    {
     "name": "stdout",
     "output_type": "stream",
     "text": [
      "heart (270, 13) (array([0, 1], dtype=int32), array([150, 120]))\n"
     ]
    }
   ],
   "source": [
    "datasets = ['heart','german','breast_cancer','diabetis','thyroid','image','banana']\n",
    "#datasets = ['heart','image']\n",
    "PN = .4\n",
    "NP = .4\n",
    "for d in datasets:\n",
    "    X,y = load_mat(d) \n",
    "    print(d,X.shape,np.unique(y,return_counts=True))\n",
    "    res = compute(clf,X,y,PN,NP)\n",
    "    print(res)\n",
    "    print()\n",
    "    "
   ]
  },
  {
   "cell_type": "markdown",
   "metadata": {},
   "source": [
    "## Imbalanced - JIRA Datasets"
   ]
  },
  {
   "cell_type": "code",
   "execution_count": null,
   "metadata": {},
   "outputs": [],
   "source": [
    "from libs import read_jira\n",
    "datasets = [f for f in os.listdir(\"JIRA/\") if 'csv' in f]\n",
    "datasets = np.random.choice(datasets,size=5)"
   ]
  },
  {
   "cell_type": "code",
   "execution_count": null,
   "metadata": {},
   "outputs": [],
   "source": [
    "grid_cv = StratifiedShuffleSplit(n_splits=2,test_size=.25)\n",
    "lr = GridSearchCV(LogisticRegression(max_iter=800),{'C':np.logspace(-4,4,10)},cv=grid_cv,n_jobs=3)\n",
    "SCORERS = [accuracy_score,f1_score,matthews_corrcoef]\n",
    "CV = StratifiedShuffleSplit(n_splits=10,test_size=.20)"
   ]
  },
  {
   "cell_type": "code",
   "execution_count": null,
   "metadata": {},
   "outputs": [],
   "source": [
    "for d in datasets:\n",
    "    X,yn,y = read_jira(d)\n",
    "    cm = confusion_matrix(y,yn)\n",
    "    rlr = noisy_evaluate(lr,X,yn,y,CV,SCORERS)\n",
    "    rrobust = noisy_evaluate(robust_lr,X,yn,y,CV,SCORERS)\n",
    "    for m in SCORERS:\n",
    "        print(m.__name__)\n",
    "        print(\"LR:\",rlr[m])\n",
    "        print(\"Robust:\",rrobust[m])\n",
    "    print()"
   ]
  },
  {
   "cell_type": "code",
   "execution_count": null,
   "metadata": {},
   "outputs": [],
   "source": [
    "%%time\n",
    "robust_lr.fit(X,yn)"
   ]
  },
  {
   "cell_type": "code",
   "execution_count": null,
   "metadata": {},
   "outputs": [],
   "source": [
    "\n",
    "\n",
    "\n",
    "\n",
    "\n",
    "\n",
    "\n",
    "\n",
    "\n",
    "\n",
    "\n",
    "\n",
    "\n",
    "\n",
    "\n",
    "\n",
    "\n",
    "\n",
    "\n",
    "\n"
   ]
  }
 ],
 "metadata": {
  "kernelspec": {
   "display_name": "Python 3",
   "language": "python",
   "name": "python3"
  },
  "language_info": {
   "codemirror_mode": {
    "name": "ipython",
    "version": 3
   },
   "file_extension": ".py",
   "mimetype": "text/x-python",
   "name": "python",
   "nbconvert_exporter": "python",
   "pygments_lexer": "ipython3",
   "version": "3.7.0"
  }
 },
 "nbformat": 4,
 "nbformat_minor": 4
}
