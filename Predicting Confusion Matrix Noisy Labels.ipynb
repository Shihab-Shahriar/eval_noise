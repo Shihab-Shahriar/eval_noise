{
 "cells": [
  {
   "cell_type": "code",
   "execution_count": 1,
   "metadata": {},
   "outputs": [],
   "source": [
    "import numpy as np\n",
    "import pandas as pd\n",
    "from sklearn.preprocessing import normalize\n",
    "from sklearn.naive_bayes import GaussianNB\n",
    "from sklearn.datasets import load_iris, make_classification\n",
    "from sklearn.utils import check_random_state\n",
    "from sklearn.metrics import confusion_matrix\n",
    "from sklearn.model_selection import cross_val_predict"
   ]
  },
  {
   "cell_type": "code",
   "execution_count": 46,
   "metadata": {},
   "outputs": [],
   "source": [
    "X,y = load_iris(return_X_y=True)\n",
    "X,y = make_classification(n_samples=20000,n_classes=3,n_informative=7,weights=[.2,.5,.3])\n",
    "X,yn = noisify(X,y,.15,None)"
   ]
  },
  {
   "cell_type": "code",
   "execution_count": 47,
   "metadata": {},
   "outputs": [
    {
     "name": "stdout",
     "output_type": "stream",
     "text": [
      "[[3396  317  310]\n",
      " [ 728 8525  712]\n",
      " [ 454  479 5079]] \n",
      "\n",
      " [[0.84414616 0.07879692 0.07705692]\n",
      " [0.07305569 0.85549423 0.07145008]\n",
      " [0.07551564 0.07967399 0.84481038]]\n"
     ]
    }
   ],
   "source": [
    "y_yn = confusion_matrix(y,yn)\n",
    "y_yn_n = normalize(y_yn,norm='l1',axis=1)\n",
    "print(y_yn,'\\n\\n',y_yn_n)"
   ]
  },
  {
   "cell_type": "code",
   "execution_count": 48,
   "metadata": {},
   "outputs": [
    {
     "name": "stdout",
     "output_type": "stream",
     "text": [
      "[[3741  128  154]\n",
      " [ 361 9246  358]\n",
      " [ 204  195 5613]] \n",
      "\n",
      " [[0.92990306 0.03181705 0.03827989]\n",
      " [0.03622679 0.92784747 0.03592574]\n",
      " [0.03393214 0.03243513 0.93363273]]\n"
     ]
    }
   ],
   "source": [
    "X,yp = noisify(X,y,.07,None) #cross_val_predict(GaussianNB(),X,y,cv=5)\n",
    "y_yp = confusion_matrix(y,yp)\n",
    "y_yp_n = normalize(y_yp,norm='l1',axis=1)\n",
    "print(y_yp,'\\n\\n',y_yp_n)"
   ]
  },
  {
   "cell_type": "code",
   "execution_count": 49,
   "metadata": {},
   "outputs": [
    {
     "name": "stdout",
     "output_type": "stream",
     "text": [
      "[[3191  806  581]\n",
      " [ 624 7927  770]\n",
      " [ 491  836 4774]] \n",
      "\n",
      " [[0.69702927 0.17605941 0.12691131]\n",
      " [0.06694561 0.85044523 0.08260916]\n",
      " [0.08047861 0.13702672 0.78249467]]\n"
     ]
    }
   ],
   "source": [
    "yn_yp = confusion_matrix(yn,yp)\n",
    "yn_yp_n = normalize(yn_yp,norm='l1',axis=1)\n",
    "print(yn_yp,'\\n\\n',yn_yp_n)"
   ]
  },
  {
   "cell_type": "code",
   "execution_count": 50,
   "metadata": {},
   "outputs": [
    {
     "data": {
      "text/plain": [
       "array([[0.79018308, 0.09709214, 0.10544227],\n",
       "       [0.10696882, 0.79885948, 0.10813684],\n",
       "       [0.1029101 , 0.09614803, 0.79425925]])"
      ]
     },
     "execution_count": 50,
     "metadata": {},
     "output_type": "execute_result"
    }
   ],
   "source": [
    "y_yn_n.T @ y_yp_n"
   ]
  },
  {
   "cell_type": "code",
   "execution_count": 51,
   "metadata": {},
   "outputs": [
    {
     "data": {
      "text/plain": [
       "array([[0.79043091, 0.10646056, 0.10314234],\n",
       "       [0.09788912, 0.79898162, 0.09693513],\n",
       "       [0.10509646, 0.10701143, 0.79388927]])"
      ]
     },
     "execution_count": 51,
     "metadata": {},
     "output_type": "execute_result"
    }
   ],
   "source": [
    "y_yn_n @ y_yp_n.T"
   ]
  },
  {
   "cell_type": "code",
   "execution_count": 52,
   "metadata": {},
   "outputs": [
    {
     "data": {
      "text/plain": [
       "(array([4578., 9321., 6101.]),\n",
       " array([4578, 9321, 6101], dtype=int32),\n",
       " array([0.2289 , 0.46605, 0.30505]))"
      ]
     },
     "execution_count": 52,
     "metadata": {},
     "output_type": "execute_result"
    }
   ],
   "source": [
    "yn_yp @ np.ones_like(yn_yp_n[:,0]),np.bincount(yn),np.bincount(yn)/len(yn)"
   ]
  },
  {
   "cell_type": "code",
   "execution_count": 53,
   "metadata": {},
   "outputs": [
    {
     "data": {
      "text/plain": [
       "(array([4023, 9965, 6012], dtype=int32), array([0.20115, 0.49825, 0.3006 ]))"
      ]
     },
     "execution_count": 53,
     "metadata": {},
     "output_type": "execute_result"
    }
   ],
   "source": [
    "np.bincount(y),np.bincount(y)/len(y)"
   ]
  },
  {
   "cell_type": "code",
   "execution_count": 54,
   "metadata": {},
   "outputs": [
    {
     "data": {
      "text/plain": [
       "array([0.19715, 0.5032 , 0.296  ])"
      ]
     },
     "execution_count": 54,
     "metadata": {},
     "output_type": "execute_result"
    }
   ],
   "source": [
    "yr = np.linalg.inv(y_yn_n) @ yn_yp @ np.ones_like(yn_yp_n[:,0])\n",
    "yk = yr.astype('int')\n",
    "yk/len(y)"
   ]
  },
  {
   "cell_type": "code",
   "execution_count": 44,
   "metadata": {},
   "outputs": [
    {
     "data": {
      "text/plain": [
       "array([0.2035, 0.5115, 0.278 ])"
      ]
     },
     "execution_count": 44,
     "metadata": {},
     "output_type": "execute_result"
    }
   ],
   "source": []
  },
  {
   "cell_type": "code",
   "execution_count": null,
   "metadata": {},
   "outputs": [],
   "source": [
    "\n",
    "\n",
    "\n",
    "\n",
    "\n",
    "\n",
    "\n",
    "\n",
    "\n",
    "\n",
    "\n",
    "\n",
    "\n",
    "\n",
    "\n"
   ]
  }
 ],
 "metadata": {
  "kernelspec": {
   "display_name": "Python 3",
   "language": "python",
   "name": "python3"
  },
  "language_info": {
   "codemirror_mode": {
    "name": "ipython",
    "version": 3
   },
   "file_extension": ".py",
   "mimetype": "text/x-python",
   "name": "python",
   "nbconvert_exporter": "python",
   "pygments_lexer": "ipython3",
   "version": "3.7.0"
  }
 },
 "nbformat": 4,
 "nbformat_minor": 2
}
