{
 "cells": [
  {
   "cell_type": "code",
   "execution_count": 1,
   "metadata": {
    "scrolled": true
   },
   "outputs": [],
   "source": [
    "import numpy as np,os\n",
    "from collections import defaultdict\n",
    "from sklearn.preprocessing import StandardScaler\n",
    "from sklearn.base import BaseEstimator, ClassifierMixin\n",
    "from sklearn.datasets import load_breast_cancer, make_classification\n",
    "from sklearn.linear_model import LogisticRegression\n",
    "from sklearn.linear_model._logistic import _logistic_regression_path, _logistic_loss, _intercept_dot\n",
    "from sklearn.model_selection import (cross_val_score, RepeatedStratifiedKFold, GridSearchCV, \n",
    "                                     StratifiedShuffleSplit, RandomizedSearchCV, ShuffleSplit)\n",
    "from sklearn.metrics import accuracy_score, confusion_matrix\n",
    "from sklearn.utils.extmath import log_logistic\n",
    "from scipy.optimize import minimize\n",
    "import matplotlib.pyplot as plt\n",
    "from libs import corrupt_label, load_mat, noisy_evaluate"
   ]
  },
  {
   "cell_type": "markdown",
   "metadata": {},
   "source": [
    "This implementation performs better compared to loss_log sometimes, and sometimes worse. Problem is the margin tends to be pretty wide in both cases. I think, but not absolutely certain, that this is correct, complete implementation."
   ]
  },
  {
   "cell_type": "code",
   "execution_count": 2,
   "metadata": {},
   "outputs": [],
   "source": [
    "def log_loss(wp,X,target,C,PN,NP):\n",
    "    c = wp[-1]\n",
    "    w = wp[:-1]\n",
    "    z = np.dot(X,w) + c\n",
    "    yz = target * z\n",
    "    nyz = -target * z\n",
    "    ls = -log_logistic(yz)\n",
    "    nls = -log_logistic(nyz)\n",
    "    idx = target==1\n",
    "    loss = ls.copy()\n",
    "    loss[idx] = (1-NP)*ls[idx] - PN*nls[idx]\n",
    "    loss[~idx] = (1-PN)*ls[~idx] - NP*nls[~idx]\n",
    "    loss = loss/(1-PN-NP) + .5 * C * np.dot(w, w)\n",
    "    return loss.sum()"
   ]
  },
  {
   "cell_type": "code",
   "execution_count": 3,
   "metadata": {},
   "outputs": [],
   "source": [
    "class Logit(LogisticRegression,BaseEstimator,ClassifierMixin):\n",
    "    def __init__(self,PN=.2, NP=.2, robust=True,C=1.0,max_iter=100):\n",
    "        super().__init__(C=C,max_iter=max_iter)\n",
    "        self.PN = PN\n",
    "        self.NP = NP\n",
    "        self.robust= robust\n",
    "    \n",
    "    def fit(self,X,y):\n",
    "        w0 = np.zeros(X.shape[1]+1)\n",
    "        target = y.copy()\n",
    "        target[target==0] = -1\n",
    "        if self.robust:\n",
    "            self.r_ = minimize(log_loss,w0,method=\"L-BFGS-B\",args=(X, target, self.C,self.PN,self.NP),\n",
    "                               options={\"maxiter\": self.max_iter})\n",
    "        else:\n",
    "            self.r_ = minimize(_logistic_loss,w0,method=\"L-BFGS-B\",args=(X, target, self.C),options={\"maxiter\": self.max_iter})\n",
    "\n",
    "    def predict(self,X):\n",
    "        c = self.r_.x[-1]\n",
    "        w = self.r_.x[:-1]\n",
    "        z = np.dot(X,w) + c\n",
    "        y = z.reshape(-1)\n",
    "        y[y<=0] = 0\n",
    "        y[y>0] = 1\n",
    "        return y"
   ]
  },
  {
   "cell_type": "code",
   "execution_count": 4,
   "metadata": {},
   "outputs": [],
   "source": [
    "def create_noise(y,PN,NP):\n",
    "    yn = y.copy()\n",
    "    idp = np.argwhere(y==1).ravel()\n",
    "    idp = np.random.choice(idp,size=int(len(idp)*PN),replace=False)\n",
    "    yn[idp] = 0\n",
    "    idp = np.argwhere(y==0).ravel()\n",
    "    idp = np.random.choice(idp,size=int(len(idp)*NP),replace=False)\n",
    "    yn[idp] = 1\n",
    "    return yn"
   ]
  },
  {
   "cell_type": "code",
   "execution_count": 5,
   "metadata": {},
   "outputs": [],
   "source": [
    "def compute(clf,X,y,PN,NP):\n",
    "    scores = []\n",
    "    for _ in range(5):\n",
    "        yn = create_noise(y,PN=PN,NP=NP)\n",
    "        CV = ShuffleSplit(n_splits=3,test_size=.33)\n",
    "        r = noisy_evaluate(clf,X,yn,y,CV,[accuracy_score])\n",
    "        scores.append(list(r.values())[0]*100)\n",
    "        print(list(r.values())[0]*100)\n",
    "    return round(sum(scores)/len(scores),3)"
   ]
  },
  {
   "cell_type": "code",
   "execution_count": 6,
   "metadata": {},
   "outputs": [],
   "source": [
    "params = {\n",
    "    'PN':np.linspace(.1,.40,7),\n",
    "    'NP':np.linspace(.1,.40,7),\n",
    "    'C':np.logspace(-4,4,10)\n",
    "}\n",
    "lr = Logit(max_iter=400)\n",
    "grid_cv = StratifiedShuffleSplit(n_splits=2,test_size=.25)\n",
    "clf = RandomizedSearchCV(lr,params,n_iter=80,cv=grid_cv,n_jobs=2)\n",
    "#clf = GridSearchCV(lr,params,cv=StratifiedShuffleSplit(n_splits=3))"
   ]
  },
  {
   "cell_type": "code",
   "execution_count": 7,
   "metadata": {},
   "outputs": [
    {
     "name": "stdout",
     "output_type": "stream",
     "text": [
      "heart (270, 13) (array([0, 1], dtype=int64), array([150, 120], dtype=int64))\n",
      "68.14814814814815\n",
      "63.703703703703695\n",
      "56.29629629629629\n",
      "70.74074074074073\n",
      "55.925925925925924\n",
      "62.963\n",
      "\n",
      "german (1000, 20) (array([0, 1], dtype=int64), array([700, 300], dtype=int64))\n",
      "63.131313131313135\n",
      "66.06060606060606\n",
      "69.29292929292929\n",
      "66.56565656565657\n",
      "71.31313131313131\n",
      "67.273\n",
      "\n",
      "breast_cancer (263, 9) (array([0, 1], dtype=int64), array([186,  77], dtype=int64))\n",
      "71.64750957854406\n",
      "67.04980842911877\n",
      "59.38697318007663\n",
      "72.79693486590037\n",
      "65.90038314176245\n",
      "67.356\n",
      "\n",
      "diabetis (768, 8) (array([0, 1], dtype=int64), array([500, 268], dtype=int64))\n",
      "68.50393700787401\n",
      "64.43569553805774\n",
      "67.58530183727034\n",
      "67.97900262467192\n",
      "70.60367454068242\n",
      "67.822\n",
      "\n",
      "thyroid (215, 5) (array([0, 1], dtype=int64), array([150,  65], dtype=int64))\n",
      "72.7699530516432\n",
      "77.46478873239437\n",
      "80.75117370892019\n",
      "68.54460093896714\n",
      "75.5868544600939\n",
      "75.023\n",
      "\n",
      "image (2086, 18) (array([0, 1], dtype=int64), array([ 898, 1188], dtype=int64))\n",
      "76.19738751814224\n",
      "74.79438800193518\n",
      "76.24576681180454\n",
      "68.74697629414611\n",
      "74.8427672955975\n",
      "74.165\n",
      "\n",
      "banana (5300, 2) (array([0, 1], dtype=int64), array([2924, 2376], dtype=int64))\n",
      "52.75395464074709\n",
      "55.30779493043644\n",
      "55.44120449780827\n",
      "54.18334286258815\n",
      "55.09815132456642\n",
      "54.557\n",
      "\n"
     ]
    }
   ],
   "source": [
    "datasets = ['heart','german','breast_cancer','diabetis','thyroid','image','banana']\n",
    "#datasets = ['heart','image']\n",
    "PN = .4\n",
    "NP = .4\n",
    "for d in datasets:\n",
    "    X,y = load_mat(d) \n",
    "    print(d,X.shape,np.unique(y,return_counts=True))\n",
    "    res = compute(clf,X,y,PN,NP)\n",
    "    print(res)\n",
    "    print()"
   ]
  },
  {
   "cell_type": "code",
   "execution_count": null,
   "metadata": {},
   "outputs": [],
   "source": []
  },
  {
   "cell_type": "code",
   "execution_count": null,
   "metadata": {},
   "outputs": [],
   "source": []
  },
  {
   "cell_type": "code",
   "execution_count": null,
   "metadata": {},
   "outputs": [],
   "source": []
  },
  {
   "cell_type": "code",
   "execution_count": null,
   "metadata": {},
   "outputs": [],
   "source": [
    "\n",
    "\n",
    "\n",
    "\n",
    "\n",
    "\n",
    "\n",
    "\n",
    "\n",
    "\n",
    "\n",
    "\n",
    "\n",
    "\n",
    "\n",
    "\n",
    "\n",
    "\n",
    "\n",
    "\n"
   ]
  }
 ],
 "metadata": {
  "kernelspec": {
   "display_name": "Python 3",
   "language": "python",
   "name": "python3"
  },
  "language_info": {
   "codemirror_mode": {
    "name": "ipython",
    "version": 3
   },
   "file_extension": ".py",
   "mimetype": "text/x-python",
   "name": "python",
   "nbconvert_exporter": "python",
   "pygments_lexer": "ipython3",
   "version": "3.7.6"
  }
 },
 "nbformat": 4,
 "nbformat_minor": 4
}
