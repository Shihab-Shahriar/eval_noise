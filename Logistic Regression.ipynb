{
 "cells": [
  {
   "cell_type": "code",
   "execution_count": 1,
   "metadata": {},
   "outputs": [],
   "source": [
    "import numpy as np,os\n",
    "from collections import defaultdict\n",
    "from sklearn.preprocessing import StandardScaler\n",
    "from sklearn.base import BaseEstimator, ClassifierMixin\n",
    "from sklearn.datasets import load_breast_cancer, make_classification\n",
    "from sklearn.linear_model import LogisticRegression\n",
    "from sklearn.linear_model._logistic import _logistic_regression_path, _logistic_loss, _intercept_dot\n",
    "from sklearn.model_selection import cross_val_score, RepeatedStratifiedKFold, GridSearchCV, StratifiedShuffleSplit\n",
    "from sklearn.metrics import accuracy_score, confusion_matrix\n",
    "from sklearn.utils.extmath import log_logistic\n",
    "from scipy.optimize import minimize\n",
    "import matplotlib.pyplot as plt\n",
    "from libs import corrupt_label, load_mat, noisy_evaluate"
   ]
  },
  {
   "cell_type": "code",
   "execution_count": 2,
   "metadata": {},
   "outputs": [],
   "source": [
    "def log_loss(wp,X,target,C,PN,NP):\n",
    "    c = wp[-1]\n",
    "    w = wp[:-1]\n",
    "    z = np.dot(X,w) + c\n",
    "    yz = target * z\n",
    "    nyz = -target * z\n",
    "    ls = -log_logistic(yz)\n",
    "    nls = -log_logistic(nyz)\n",
    "    idx = target==1\n",
    "    loss = ls.copy()\n",
    "    loss[idx] = (1-NP)*ls[idx] - PN*nls[idx]\n",
    "    loss[~idx] = (1-PN)*ls[~idx] - NP*nls[~idx]\n",
    "    loss = loss/(1-PN-NP) + .5 * C * np.dot(w, w)\n",
    "    return loss.sum()"
   ]
  },
  {
   "cell_type": "code",
   "execution_count": 3,
   "metadata": {},
   "outputs": [],
   "source": [
    "class Logit(LogisticRegression,BaseEstimator,ClassifierMixin):\n",
    "    def __init__(self,PN=.2, NP=.2, robust=True,C=1.0,max_iter=100):\n",
    "        super().__init__(C=C,max_iter=max_iter)\n",
    "        self.PN = PN\n",
    "        self.NP = NP\n",
    "        self.robust= robust\n",
    "    \n",
    "    def fit(self,X,y):\n",
    "        w0 = np.zeros(X.shape[1]+1)\n",
    "        target = y.copy()\n",
    "        target[target==0] = -1\n",
    "        if self.robust:\n",
    "            self.r_ = minimize(log_loss,w0,method=\"L-BFGS-B\",args=(X, target, self.C,self.PN,self.NP),\n",
    "                               options={\"maxiter\": self.max_iter})\n",
    "        else:\n",
    "            self.r_ = minimize(_logistic_loss,w0,method=\"L-BFGS-B\",args=(X, target, self.C),options={\"maxiter\": self.max_iter})\n",
    "\n",
    "    def predict(self,X):\n",
    "        c = self.r_.x[-1]\n",
    "        w = self.r_.x[:-1]\n",
    "        z = np.dot(X,w) + c\n",
    "        y = z.reshape(-1)\n",
    "        y[y<=0] = 0\n",
    "        y[y>0] = 1\n",
    "        return y"
   ]
  },
  {
   "cell_type": "code",
   "execution_count": 8,
   "metadata": {},
   "outputs": [],
   "source": [
    "def create_noise(y,PN,NP):\n",
    "    yn = y.copy()\n",
    "    idp = np.argwhere(y==1).ravel()\n",
    "    idp = np.random.choice(idp,size=int(len(idp)*PN),replace=False)\n",
    "    yn[idp] = 0\n",
    "    idp = np.argwhere(y==0).ravel()\n",
    "    idp = np.random.choice(idp,size=int(len(idp)*NP),replace=False)\n",
    "    yn[idp] = 1\n",
    "    return yn"
   ]
  },
  {
   "cell_type": "code",
   "execution_count": 10,
   "metadata": {},
   "outputs": [
    {
     "data": {
      "text/plain": [
       "((1000, 20), (array([0, 1], dtype=int32), array([700, 300])))"
      ]
     },
     "execution_count": 10,
     "metadata": {},
     "output_type": "execute_result"
    }
   ],
   "source": [
    "datasets = ['heart','german','breast_cancer','diabetis','thyroid','image','banana']\n",
    "X,y = load_mat('german') \n",
    "cm = np.array([\n",
    "    [.8,.2],\n",
    "    [.2,.8]\n",
    "])\n",
    "X.shape,np.unique(y,return_counts=True)"
   ]
  },
  {
   "cell_type": "code",
   "execution_count": 11,
   "metadata": {},
   "outputs": [],
   "source": [
    "params = {\n",
    "    'PN':np.linspace(.1,.45,8),\n",
    "    'NP':np.linspace(.1,.45,8)\n",
    "}\n",
    "lr = Logit(max_iter=100,C=1.0)\n",
    "clf = GridSearchCV(lr,params,cv=StratifiedShuffleSplit(n_splits=3))"
   ]
  },
  {
   "cell_type": "code",
   "execution_count": 12,
   "metadata": {},
   "outputs": [
    {
     "data": {
      "text/plain": [
       "{'NP': 0.1, 'PN': 0.1}"
      ]
     },
     "execution_count": 12,
     "metadata": {},
     "output_type": "execute_result"
    }
   ],
   "source": [
    "clf.fit(X,create_noise(y,PN=.2,NP=.2))\n",
    "clf.best_params_"
   ]
  },
  {
   "cell_type": "code",
   "execution_count": 13,
   "metadata": {},
   "outputs": [
    {
     "name": "stdout",
     "output_type": "stream",
     "text": [
      "70.0\n",
      "69.8989898989899\n",
      "70.1010101010101\n",
      "70.000\n",
      "Wall time: 9min 43s\n"
     ]
    }
   ],
   "source": [
    "%%time\n",
    "scores = []\n",
    "for _ in range(3):\n",
    "    yn = create_noise(y,PN=.2,NP=.2)\n",
    "    CV = StratifiedShuffleSplit(n_splits=3,test_size=.33)\n",
    "    r = noisy_evaluate(clf,X,yn,y,CV,[accuracy_score])\n",
    "    scores.append(list(r.values())[0]*100)\n",
    "    print(list(r.values())[0]*100)\n",
    "print(f\"{sum(scores)/len(scores):.3f}\")"
   ]
  },
  {
   "cell_type": "code",
   "execution_count": null,
   "metadata": {},
   "outputs": [],
   "source": []
  },
  {
   "cell_type": "code",
   "execution_count": null,
   "metadata": {},
   "outputs": [],
   "source": []
  },
  {
   "cell_type": "code",
   "execution_count": null,
   "metadata": {},
   "outputs": [],
   "source": []
  },
  {
   "cell_type": "code",
   "execution_count": null,
   "metadata": {},
   "outputs": [],
   "source": [
    "\n",
    "\n",
    "\n",
    "\n",
    "\n",
    "\n",
    "\n",
    "\n",
    "\n",
    "\n",
    "\n",
    "\n",
    "\n",
    "\n",
    "\n",
    "\n",
    "\n",
    "\n",
    "\n",
    "\n"
   ]
  }
 ],
 "metadata": {
  "kernelspec": {
   "display_name": "Python 3",
   "language": "python",
   "name": "python3"
  },
  "language_info": {
   "codemirror_mode": {
    "name": "ipython",
    "version": 3
   },
   "file_extension": ".py",
   "mimetype": "text/x-python",
   "name": "python",
   "nbconvert_exporter": "python",
   "pygments_lexer": "ipython3",
   "version": "3.7.0"
  }
 },
 "nbformat": 4,
 "nbformat_minor": 4
}
