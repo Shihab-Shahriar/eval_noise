{
 "cells": [
  {
   "cell_type": "code",
   "execution_count": 1,
   "metadata": {},
   "outputs": [],
   "source": [
    "from collections import defaultdict\n",
    "import numpy as np, os\n",
    "np.set_printoptions(suppress=True)\n",
    "import pandas as pd\n",
    "from sklearn.base import clone\n",
    "from sklearn.preprocessing import StandardScaler\n",
    "from sklearn.datasets import load_iris, load_breast_cancer, load_digits\n",
    "from sklearn.tree import DecisionTreeClassifier\n",
    "from sklearn.neighbors import KNeighborsClassifier\n",
    "from sklearn.linear_model import LogisticRegression\n",
    "from sklearn.ensemble import RandomForestClassifier, AdaBoostClassifier\n",
    "from sklearn.svm import SVC\n",
    "from sklearn.model_selection import (GridSearchCV, StratifiedShuffleSplit, cross_val_score, \n",
    "                                     cross_validate, RepeatedStratifiedKFold)\n",
    "from sklearn.metrics import (accuracy_score, f1_score, roc_auc_score, precision_score, \n",
    "                             recall_score, confusion_matrix, matthews_corrcoef,balanced_accuracy_score)\n",
    "from imblearn.ensemble import BalancedRandomForestClassifier\n",
    "import matplotlib.pyplot as plt\n",
    "import seaborn as sns\n",
    "from libs import noisify, read_jira\n",
    "\n",
    "import warnings\n",
    "warnings.filterwarnings(\"ignore\")"
   ]
  },
  {
   "cell_type": "code",
   "execution_count": 26,
   "metadata": {},
   "outputs": [],
   "source": [
    "def corrupt_label(y,cm):\n",
    "    a = cm[y]\n",
    "    s = a.cumsum(axis=1)\n",
    "    r = np.random.rand(a.shape[0])[:,None]\n",
    "    yn = (s > r).argmax(axis=1)\n",
    "    return yn"
   ]
  },
  {
   "cell_type": "code",
   "execution_count": 3,
   "metadata": {},
   "outputs": [
    {
     "name": "stdout",
     "output_type": "stream",
     "text": [
      "camel-1.4.0.csv noise:0.281, imb:3.174,363,1152, Shape:(1515, 65)\n"
     ]
    },
    {
     "data": {
      "text/plain": [
       "array([[0.79512195, 0.20487805],\n",
       "       [0.61052632, 0.38947368]])"
      ]
     },
     "execution_count": 3,
     "metadata": {},
     "output_type": "execute_result"
    }
   ],
   "source": [
    "ds = ['camel-1.4.0.csv','groovy-1_6_BETA_1.csv','jruby-1.5.0.csv','lucene-2.9.0.csv']\n",
    "X,yn,y = read_jira(ds[0])\n",
    "lcm = confusion_matrix(y,yn,normalize='true')\n",
    "lcm"
   ]
  },
  {
   "cell_type": "code",
   "execution_count": null,
   "metadata": {},
   "outputs": [],
   "source": [
    "def noisy_evaluate(clf,X,Ytrain,Yeval,CV,eval_metrics):\n",
    "    scores = defaultdict(list)\n",
    "    Ytrain = corrupt_label(Ytrain)\n",
    "    for train_id,test_id in CV.split(X,Ytrain):\n",
    "        clf.fit(X[train_id],Ytrain[train_id])\n",
    "        yp = clf.predict(X[test_id])\n",
    "        for metric in eval_metrics:\n",
    "            r = metric(Yeval[test_id],yp)\n",
    "            scores[metric].append(r)\n",
    "    res = {m:sum(scores[m])/len(scores[m]) for m in eval_metrics}\n",
    "    return res"
   ]
  },
  {
   "cell_type": "code",
   "execution_count": null,
   "metadata": {},
   "outputs": [],
   "source": []
  },
  {
   "cell_type": "code",
   "execution_count": null,
   "metadata": {},
   "outputs": [],
   "source": []
  },
  {
   "cell_type": "code",
   "execution_count": null,
   "metadata": {},
   "outputs": [],
   "source": [
    "\n",
    "\n",
    "\n",
    "\n",
    "\n",
    "\n",
    "\n",
    "\n",
    "\n",
    "\n",
    "\n",
    "\n",
    "\n",
    "\n",
    "\n",
    "\n",
    "\n",
    "\n",
    "\n",
    "\n",
    "\n",
    "\n",
    "\n",
    "\n"
   ]
  }
 ],
 "metadata": {
  "kernelspec": {
   "display_name": "Python 3",
   "language": "python",
   "name": "python3"
  },
  "language_info": {
   "codemirror_mode": {
    "name": "ipython",
    "version": 3
   },
   "file_extension": ".py",
   "mimetype": "text/x-python",
   "name": "python",
   "nbconvert_exporter": "python",
   "pygments_lexer": "ipython3",
   "version": "3.7.6"
  }
 },
 "nbformat": 4,
 "nbformat_minor": 4
}
